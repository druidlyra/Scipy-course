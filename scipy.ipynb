{
 "cells": [
  {
   "cell_type": "code",
   "execution_count": 1,
   "id": "4b53fd41-9203-46dc-b1b5-d4c31ff7259c",
   "metadata": {},
   "outputs": [],
   "source": [
    "import numpy as np\n",
    "import matplotlib.pyplot as plt\n",
    "import scipy as sp"
   ]
  },
  {
   "cell_type": "markdown",
   "id": "78e91988-97b7-4995-8904-a38f7ec23d77",
   "metadata": {},
   "source": [
    "# basic"
   ]
  },
  {
   "cell_type": "markdown",
   "id": "80d6d71a-1883-4ff4-b9cd-d554ba4304d6",
   "metadata": {},
   "source": [
    "## Optimization"
   ]
  },
  {
   "cell_type": "code",
   "execution_count": 4,
   "id": "fcd63e0f-5b52-4bdf-8363-09e97766707d",
   "metadata": {},
   "outputs": [],
   "source": [
    "from scipy.optimize import minimize"
   ]
  },
  {
   "cell_type": "markdown",
   "id": "076644b3-1ebd-415a-91d3-75f4c6aba13e",
   "metadata": {},
   "source": [
    "1. Minimize $f(x)=(x-3)^2$"
   ]
  },
  {
   "cell_type": "code",
   "execution_count": 8,
   "id": "bd964238-d9df-4ef4-9969-cdcac0b5986f",
   "metadata": {},
   "outputs": [],
   "source": [
    "def f(x):\n",
    "    return (x-3)**2\n",
    "res = minimize(f, 2)   "
   ]
  },
  {
   "cell_type": "markdown",
   "id": "d749ae96-6509-4357-beed-e32ddf5e0486",
   "metadata": {},
   "source": [
    "### minimize function takes the 'f' function as a parameter, and we should add an initial guess to run the function"
   ]
  },
  {
   "cell_type": "code",
   "execution_count": 7,
   "id": "1ba378b9-1ed3-4548-bfc7-30390f66035b",
   "metadata": {},
   "outputs": [
    {
     "data": {
      "text/plain": [
       "      fun: 5.551437397369767e-17\n",
       " hess_inv: array([[0.5]])\n",
       "      jac: array([-4.3254289e-13])\n",
       "  message: 'Optimization terminated successfully.'\n",
       "     nfev: 6\n",
       "      nit: 2\n",
       "     njev: 3\n",
       "   status: 0\n",
       "  success: True\n",
       "        x: array([2.99999999])"
      ]
     },
     "execution_count": 7,
     "metadata": {},
     "output_type": "execute_result"
    }
   ],
   "source": [
    "res"
   ]
  },
  {
   "cell_type": "code",
   "execution_count": 9,
   "id": "3f2a42fd-00b4-464c-8707-3ce2013196d5",
   "metadata": {},
   "outputs": [
    {
     "data": {
      "text/plain": [
       "array([2.99999999])"
      ]
     },
     "execution_count": 9,
     "metadata": {},
     "output_type": "execute_result"
    }
   ],
   "source": [
    "res.x"
   ]
  },
  {
   "cell_type": "code",
   "execution_count": 10,
   "id": "864e3698-dff2-4dda-9a40-26ebaf98d68b",
   "metadata": {},
   "outputs": [
    {
     "data": {
      "text/plain": [
       "2.999999992549203"
      ]
     },
     "execution_count": 10,
     "metadata": {},
     "output_type": "execute_result"
    }
   ],
   "source": [
    "res.x[0]"
   ]
  },
  {
   "cell_type": "markdown",
   "id": "23171171-8cf1-44df-9d3e-1fee70a677f6",
   "metadata": {},
   "source": [
    "### the minimize function returns several informations about the optimization result, and its x attribution returns an array which best fits the function    "
   ]
  },
  {
   "cell_type": "markdown",
   "id": "aa19a53a-e89b-4c31-88b0-cf40dd366f42",
   "metadata": {},
   "source": [
    "2. Minimize $f(x,y)=(x-1)^2+(y-2.5)^2$ subject to"
   ]
  },
  {
   "cell_type": "markdown",
   "id": "93caa31c-009b-4fa2-87fc-9256adf93b28",
   "metadata": {},
   "source": [
    "$$x-2y+2\\geq0$$\n",
    "$$-x-2y+6\\geq0$$\n",
    "$$-x+2y+2\\geq0$$\n",
    "$$x\\geq0$$\n",
    "$$y\\geq0$$"
   ]
  },
  {
   "cell_type": "markdown",
   "id": "3051a7f4-dc04-4d81-be67-1dc21d5eca9c",
   "metadata": {},
   "source": [
    "### . 2D function takes in vector x\n",
    "### . Constraints must be specified as $g_i(x)\\geq0$\n",
    "### . Bounds specified as rectangular"
   ]
  },
  {
   "cell_type": "code",
   "execution_count": 16,
   "id": "9e4236b1-652e-4c49-8090-3b845102d72e",
   "metadata": {},
   "outputs": [],
   "source": [
    "f = lambda x:(x[0]-1)**2 + (x[1]-2.5)**2"
   ]
  },
  {
   "cell_type": "code",
   "execution_count": 17,
   "id": "5742181c-73dc-4a1f-8626-a79bfdba9191",
   "metadata": {},
   "outputs": [],
   "source": [
    "cons = ({'type':'ineq','fun': lambda x: x[0]-2*x[1]+2}\n",
    "        ,{'type':'ineq','fun': lambda x: -x[0]-2*x[1]+6}\n",
    "        ,{'type':'ineq','fun': lambda x: -x[0]+2*x[1]+2}\n",
    "       )"
   ]
  },
  {
   "cell_type": "code",
   "execution_count": 18,
   "id": "164621a2-8847-4a78-a0d0-6516cbb07f4a",
   "metadata": {},
   "outputs": [],
   "source": [
    "bnds = ((0, None), (0, None))"
   ]
  },
  {
   "cell_type": "code",
   "execution_count": 19,
   "id": "e6c9b598-cb2e-468c-a23b-771316dfabe8",
   "metadata": {},
   "outputs": [],
   "source": [
    "res = minimize(f, (2,0), bounds = bnds, constraints = cons)"
   ]
  },
  {
   "cell_type": "code",
   "execution_count": 20,
   "id": "3714913a-43ce-45dd-9c47-5c9a03a30565",
   "metadata": {},
   "outputs": [
    {
     "data": {
      "text/plain": [
       "     fun: 0.8000000011920985\n",
       "     jac: array([ 0.80000002, -1.59999999])\n",
       " message: 'Optimization terminated successfully'\n",
       "    nfev: 10\n",
       "     nit: 3\n",
       "    njev: 3\n",
       "  status: 0\n",
       " success: True\n",
       "       x: array([1.4, 1.7])"
      ]
     },
     "execution_count": 20,
     "metadata": {},
     "output_type": "execute_result"
    }
   ],
   "source": [
    "res"
   ]
  },
  {
   "cell_type": "code",
   "execution_count": 21,
   "id": "37845a05-2eb5-4d5a-a72c-a28cef85651d",
   "metadata": {},
   "outputs": [],
   "source": [
    "cons_try = ({'type':'ineq','fun': lambda x: x[0]-2*x[1]+2}\n",
    "        ,{'type':'ineq','fun': lambda x: -x[0]-2*x[1]+6}\n",
    "        ,{'type':'ineq','fun': lambda x: -x[0]+2*x[1]+2}\n",
    "        ,{'type':'ineq','fun': lambda x: x[0]}\n",
    "        ,{'type':'ineq','fun': lambda x: x[1]}\n",
    "       )"
   ]
  },
  {
   "cell_type": "code",
   "execution_count": 22,
   "id": "8adf3af1-adcb-4f4d-9611-7bfc2672485f",
   "metadata": {},
   "outputs": [
    {
     "data": {
      "text/plain": [
       "     fun: 0.8000000011920985\n",
       "     jac: array([ 0.80000002, -1.59999999])\n",
       " message: 'Optimization terminated successfully'\n",
       "    nfev: 10\n",
       "     nit: 3\n",
       "    njev: 3\n",
       "  status: 0\n",
       " success: True\n",
       "       x: array([1.4, 1.7])"
      ]
     },
     "execution_count": 22,
     "metadata": {},
     "output_type": "execute_result"
    }
   ],
   "source": [
    "res_try = minimize(f, (2,0), constraints = cons_try)\n",
    "res_try"
   ]
  },
  {
   "cell_type": "markdown",
   "id": "1700f182-7af9-46ad-bac5-69779cc77eba",
   "metadata": {},
   "source": [
    "### contraints is a tuple of multiple dictionaries, and the value of 'fun' must be in the form of $g_i(x)$, while $g_i(x)\\geq0$ "
   ]
  },
  {
   "cell_type": "markdown",
   "id": "53ec58af-904b-4948-a9eb-1e1110eaa3f9",
   "metadata": {},
   "source": [
    "## Interpolation"
   ]
  },
  {
   "cell_type": "markdown",
   "id": "9388fedf-ff1c-4209-9cd2-b3dd43b0f474",
   "metadata": {},
   "source": [
    "Suppose you have the following data (I generate it here, but perhaps you collect x and y by means of some experiment)"
   ]
  },
  {
   "cell_type": "code",
   "execution_count": 23,
   "id": "5db37977-71fb-41f9-a21f-46d58a6b1a25",
   "metadata": {},
   "outputs": [
    {
     "data": {
      "text/plain": [
       "<matplotlib.collections.PathCollection at 0x2232ddd5670>"
      ]
     },
     "execution_count": 23,
     "metadata": {},
     "output_type": "execute_result"
    },
    {
     "data": {
      "image/png": "[encoded data removed]",
      "text/plain": [
       "<Figure size 432x288 with 1 Axes>"
      ]
     },
     "metadata": {
      "needs_background": "light"
     },
     "output_type": "display_data"
    }
   ],
   "source": [
    "x = np.linspace(0, 10, 10)\n",
    "y = x**2 * np.sin(x)\n",
    "plt.scatter(x, y)"
   ]
  },
  {
   "cell_type": "markdown",
   "id": "30f637f3-4c6a-4d72-9019-ed9f8b0e5bd5",
   "metadata": {},
   "source": [
    "You want to know the values in between."
   ]
  },
  {
   "cell_type": "code",
   "execution_count": 27,
   "id": "76cb7dc4-2b11-4470-a5f8-bb309e68e951",
   "metadata": {},
   "outputs": [
    {
     "data": {
      "text/plain": [
       "array([ 0.        ,  1.11111111,  2.22222222,  3.33333333,  4.44444444,\n",
       "        5.55555556,  6.66666667,  7.77777778,  8.88888889, 10.        ])"
      ]
     },
     "execution_count": 27,
     "metadata": {},
     "output_type": "execute_result"
    }
   ],
   "source": [
    "x"
   ]
  },
  {
   "cell_type": "code",
   "execution_count": 28,
   "id": "d4e37877-f8bb-4e17-ba75-b2094ae1fb7e",
   "metadata": {},
   "outputs": [
    {
     "data": {
      "text/plain": [
       "array([  0.        ,   1.10641012,   3.92701263,  -2.11742181,\n",
       "       -19.04823935, -20.52782454,  16.62894358,  60.31826748,\n",
       "        40.34415237, -54.40211109])"
      ]
     },
     "execution_count": 28,
     "metadata": {},
     "output_type": "execute_result"
    }
   ],
   "source": [
    "y"
   ]
  },
  {
   "cell_type": "code",
   "execution_count": 24,
   "id": "59b7d5b1-f2c5-4a85-a0c3-58bd598fe60a",
   "metadata": {},
   "outputs": [],
   "source": [
    "from scipy.interpolate import interp1d"
   ]
  },
  {
   "cell_type": "code",
   "execution_count": 29,
   "id": "345edfd6-8fa7-47ad-8bbc-fba4c4b3020d",
   "metadata": {},
   "outputs": [],
   "source": [
    "f = interp1d(x, y, kind = 'linear')"
   ]
  },
  {
   "cell_type": "markdown",
   "id": "20f9a4a9-70d6-43ab-9fea-15e31e742722",
   "metadata": {},
   "source": [
    "interp1d takes the x and y as the initial points, and use the 'linear' method to interpolate the points between those initial points. f is created as a function, which can receive x values to predict y values"
   ]
  },
  {
   "cell_type": "code",
   "execution_count": 30,
   "id": "4633c961-6e22-441c-a891-d5e4e77d60b4",
   "metadata": {},
   "outputs": [
    {
     "data": {
      "text/plain": [
       "[<matplotlib.lines.Line2D at 0x2232da40070>]"
      ]
     },
     "execution_count": 30,
     "metadata": {},
     "output_type": "execute_result"
    },
    {
     "data": {
      "image/png": "[encoded data removed]",
      "text/plain": [
       "<Figure size 432x288 with 1 Axes>"
      ]
     },
     "metadata": {
      "needs_background": "light"
     },
     "output_type": "display_data"
    }
   ],
   "source": [
    "x_dense = np.linspace(0, 10, 100)\n",
    "y_dense = f(x_dense)\n",
    "plt.plot(x_dense, y_dense)"
   ]
  },
  {
   "cell_type": "code",
   "execution_count": 31,
   "id": "d7e8457a-04a1-4d87-914d-88a7beb7f131",
   "metadata": {},
   "outputs": [
    {
     "data": {
      "text/plain": [
       "[<matplotlib.lines.Line2D at 0x223327062e0>]"
      ]
     },
     "execution_count": 31,
     "metadata": {},
     "output_type": "execute_result"
    },
    {
     "data": {
      "image/png": "[encoded data removed]",
      "text/plain": [
       "<Figure size 432x288 with 1 Axes>"
      ]
     },
     "metadata": {
      "needs_background": "light"
     },
     "output_type": "display_data"
    }
   ],
   "source": [
    "f1 = interp1d(x, y, kind = 'cubic')\n",
    "y_dense1 = f1(x_dense)\n",
    "plt.plot(x_dense, y_dense1)"
   ]
  },
  {
   "cell_type": "markdown",
   "id": "45e22776-a4c3-4d9f-a486-08ceee117975",
   "metadata": {},
   "source": [
    "## Curve Fitting"
   ]
  },
  {
   "cell_type": "markdown",
   "id": "5a7331d8-9cda-4922-ad46-07144f8e5bce",
   "metadata": {},
   "source": [
    "1. Trivial Example"
   ]
  },
  {
   "cell_type": "code",
   "execution_count": 32,
   "id": "fa2a40fd-8b97-4fd5-9989-ff640d4c8530",
   "metadata": {},
   "outputs": [],
   "source": [
    "x_data = np.linspace(0, 10, 10)\n",
    "y_data = 3*x_data**2 + 2"
   ]
  },
  {
   "cell_type": "code",
   "execution_count": 33,
   "id": "094c7dca-74af-40af-b2a6-1a14fd85dafb",
   "metadata": {},
   "outputs": [
    {
     "data": {
      "text/plain": [
       "<matplotlib.collections.PathCollection at 0x223327693a0>"
      ]
     },
     "execution_count": 33,
     "metadata": {},
     "output_type": "execute_result"
    },
    {
     "data": {
      "image/png": "[encoded data removed]",
      "text/plain": [
       "<Figure size 432x288 with 1 Axes>"
      ]
     },
     "metadata": {
      "needs_background": "light"
     },
     "output_type": "display_data"
    }
   ],
   "source": [
    "plt.scatter(x_data, y_data)"
   ]
  },
  {
   "cell_type": "markdown",
   "id": "ea866cc5-e25c-43af-a3cf-577fd421832a",
   "metadata": {},
   "source": [
    "Want to fit the data to the curve $y=ax^2+b$. The main goal here is determine the values of a and b."
   ]
  },
  {
   "cell_type": "code",
   "execution_count": 35,
   "id": "3d644f8a-50c4-48d9-a540-04c5d0df5d83",
   "metadata": {},
   "outputs": [],
   "source": [
    "from scipy.optimize import curve_fit"
   ]
  },
  {
   "cell_type": "code",
   "execution_count": 41,
   "id": "df3c70a1-0d76-4482-b6da-cef7c55cc68b",
   "metadata": {},
   "outputs": [],
   "source": [
    "def func(x, a, b):\n",
    "    return a*x**2+b\n",
    "popt, pcov = curve_fit(func, x_data, y_data, p0=(1,1))"
   ]
  },
  {
   "cell_type": "markdown",
   "id": "ab535bd2-6e40-4b98-8692-a01a3097a8fd",
   "metadata": {},
   "source": [
    "### curve_fit takes 'func' function ,x_data and y_data as parameters, then try to find the best fit a and b."
   ]
  },
  {
   "cell_type": "markdown",
   "id": "c6fdd3ad-db54-4933-a677-ce0a17c3c297",
   "metadata": {},
   "source": [
    "### curve_fit returns parameters and covariances"
   ]
  },
  {
   "cell_type": "code",
   "execution_count": 39,
   "id": "75b6480c-c4a4-4dd8-bbdc-d57bb5122b7d",
   "metadata": {
    "tags": []
   },
   "outputs": [
    {
     "data": {
      "text/plain": [
       "array([3., 2.])"
      ]
     },
     "execution_count": 39,
     "metadata": {},
     "output_type": "execute_result"
    }
   ],
   "source": [
    "popt"
   ]
  },
  {
   "cell_type": "code",
   "execution_count": 40,
   "id": "8dd0673c-35d7-4831-8d0e-7f21fb7a0cf7",
   "metadata": {},
   "outputs": [
    {
     "data": {
      "text/plain": [
       "array([[ 4.13297331e-34, -1.45419433e-32],\n",
       "       [-1.45419433e-32,  9.65872308e-31]])"
      ]
     },
     "execution_count": 40,
     "metadata": {},
     "output_type": "execute_result"
    }
   ],
   "source": [
    "pcov"
   ]
  },
  {
   "cell_type": "code",
   "execution_count": 42,
   "id": "d8d17fa7-9162-4592-a8de-d5118bd371c3",
   "metadata": {},
   "outputs": [
    {
     "data": {
      "text/plain": [
       "array([3., 2.])"
      ]
     },
     "execution_count": 42,
     "metadata": {},
     "output_type": "execute_result"
    }
   ],
   "source": [
    "popt1, pcov1 = curve_fit(func, x_data, y_data)\n",
    "popt1"
   ]
  },
  {
   "cell_type": "markdown",
   "id": "4b853cac-e65b-4d03-a030-c991bc96b1c0",
   "metadata": {},
   "source": [
    "### The example above shows the initial guess p0 is not mandate!"
   ]
  },
  {
   "cell_type": "markdown",
   "id": "491b5009-3c43-4cdf-9ffc-4b48be8f41a4",
   "metadata": {},
   "source": [
    "2. The equation for spring motion is $y(t)=Acos(\\omega t+\\phi)$. Want to find the natural frequency of oscillation $\\omega$ for the spring. You collect the data "
   ]
  },
  {
   "cell_type": "code",
   "execution_count": 67,
   "id": "bfbc31ef-c571-41ab-aa38-f7639045e5fd",
   "metadata": {},
   "outputs": [],
   "source": [
    "t_data = np.array([ 0.        ,  0.34482759,  0.68965517,  1.03448276,  1.37931034,\n",
    "        1.72413793,  2.06896552,  2.4137931 ,  2.75862069,  3.10344828,\n",
    "        3.44827586,  3.79310345,  4.13793103,  4.48275862,  4.82758621,\n",
    "        5.17241379,  5.51724138,  5.86206897,  6.20689655,  6.55172414,\n",
    "        6.89655172,  7.24137931,  7.5862069 ,  7.93103448,  8.27586207,\n",
    "        8.62068966,  8.96551724,  9.31034483,  9.65517241, 10.        ])\n",
    "y_data = np.array([ 4.034458  ,  1.89488952, -2.24965139, -3.9801263 , -1.45144904,\n",
    "        2.64022605,  3.93222772,  1.04698361, -2.93916928, -3.77607075,\n",
    "       -0.57139043,  3.25794185,  3.62897291,  0.1460979 , -3.47713353,\n",
    "       -3.37751932,  0.33872875,  3.70923141,  3.14025388, -0.76154228,\n",
    "       -3.83594067, -2.80492209,  1.23220938,  3.9709386 ,  2.49114729,\n",
    "       -1.62936502, -3.99717996, -2.08765958,  2.06320608,  4.02963497])"
   ]
  },
  {
   "cell_type": "code",
   "execution_count": 69,
   "id": "61f750b5-0917-4dc8-94a5-d3561917e30b",
   "metadata": {},
   "outputs": [
    {
     "data": {
      "text/plain": [
       "[<matplotlib.lines.Line2D at 0x223329b7ee0>]"
      ]
     },
     "execution_count": 69,
     "metadata": {},
     "output_type": "execute_result"
    },
    {
     "data": {
      "image/png": "[encoded data removed]",
      "text/plain": [
       "<Figure size 432x288 with 1 Axes>"
      ]
     },
     "metadata": {
      "needs_background": "light"
     },
     "output_type": "display_data"
    }
   ],
   "source": [
    "plt.plot(t_data, y_data, 'o--')"
   ]
  },
  {
   "cell_type": "markdown",
   "id": "e73eb4da-1f30-4d2a-8379-da2152274f87",
   "metadata": {},
   "source": [
    "$\\omega = 2\\pi f$, $f = 1/T$, and $T \\approx 2 seconds$. Thus good initial guess is"
   ]
  },
  {
   "cell_type": "markdown",
   "id": "eea96b12-7960-4765-9839-dfd6cc0ff20f",
   "metadata": {},
   "source": [
    ". $\\omega = 2\\pi(1/2) = \\pi$"
   ]
  },
  {
   "cell_type": "markdown",
   "id": "1b9910e4-a532-44db-a5bd-d8c526bbc846",
   "metadata": {},
   "source": [
    ". $A = 4$"
   ]
  },
  {
   "cell_type": "markdown",
   "id": "755aaa75-eac6-4984-b5c3-6e52a0fdf3bf",
   "metadata": {},
   "source": [
    ". $\\phi = 0$"
   ]
  },
  {
   "cell_type": "code",
   "execution_count": 70,
   "id": "9af76d6c-ab2a-498d-9191-a10d93dc2c5b",
   "metadata": {},
   "outputs": [],
   "source": [
    "def func2(t, A, w, phi):\n",
    "    return A*np.cos(w*t+phi)"
   ]
  },
  {
   "cell_type": "code",
   "execution_count": 71,
   "id": "8bd0f2ba-3c93-48be-92a6-6f0da2ea8a92",
   "metadata": {},
   "outputs": [],
   "source": [
    "popt1, pcov1 = curve_fit(func2, t_data, y_data, p0=(4, np.pi, 0))"
   ]
  },
  {
   "cell_type": "code",
   "execution_count": 72,
   "id": "23dff0ac-2b12-478b-9d09-d67583fbcd18",
   "metadata": {},
   "outputs": [
    {
     "data": {
      "text/plain": [
       "array([ 4.02089681e+00,  3.14683505e+00, -2.21686556e-03])"
      ]
     },
     "execution_count": 72,
     "metadata": {},
     "output_type": "execute_result"
    }
   ],
   "source": [
    "popt1"
   ]
  },
  {
   "cell_type": "code",
   "execution_count": 73,
   "id": "4d8d1b3e-d04f-4f78-a818-2da8e2c30ea8",
   "metadata": {},
   "outputs": [
    {
     "data": {
      "text/plain": [
       "array([[ 1.46812393e-05, -3.59676218e-08,  1.85893242e-07],\n",
       "       [-3.59676218e-08,  1.17659117e-07, -5.87858916e-07],\n",
       "       [ 1.85893242e-07, -5.87858916e-07,  3.90876645e-06]])"
      ]
     },
     "execution_count": 73,
     "metadata": {},
     "output_type": "execute_result"
    }
   ],
   "source": [
    "pcov1"
   ]
  },
  {
   "cell_type": "code",
   "execution_count": 78,
   "id": "a1cb1c3f-c1f9-4b6e-b1ba-a492c2c7b8c1",
   "metadata": {},
   "outputs": [
    {
     "data": {
      "text/plain": [
       "array([1.46812393e-05, 1.17659117e-07, 3.90876645e-06])"
      ]
     },
     "execution_count": 78,
     "metadata": {},
     "output_type": "execute_result"
    }
   ],
   "source": [
    "np.diag(pcov1)"
   ]
  },
  {
   "cell_type": "markdown",
   "id": "6059748b-3179-440d-869a-800f95a8ca75",
   "metadata": {},
   "source": [
    "### np.diag() can be used to get the diagonal vecters in matrix"
   ]
  },
  {
   "cell_type": "code",
   "execution_count": 79,
   "id": "8a14de98-6327-4ece-8074-be88650ba229",
   "metadata": {},
   "outputs": [],
   "source": [
    "A, w, phi = popt1"
   ]
  },
  {
   "cell_type": "code",
   "execution_count": 81,
   "id": "00922309-662a-4cce-8562-82174c15579e",
   "metadata": {},
   "outputs": [],
   "source": [
    "t_dense = np.linspace(0, 10, 100)\n",
    "y_dense = func2(t_dense, *popt1)  #*arg is a good way to unpack a tuple"
   ]
  },
  {
   "cell_type": "code",
   "execution_count": 87,
   "id": "601193e2-c47c-42f9-a5fc-78061886a0df",
   "metadata": {},
   "outputs": [
    {
     "data": {
      "text/plain": [
       "[<matplotlib.lines.Line2D at 0x22335d047f0>]"
      ]
     },
     "execution_count": 87,
     "metadata": {},
     "output_type": "execute_result"
    },
    {
     "data": {
      "image/png": "[encoded data removed]",
      "text/plain": [
       "<Figure size 432x288 with 1 Axes>"
      ]
     },
     "metadata": {
      "needs_background": "light"
     },
     "output_type": "display_data"
    }
   ],
   "source": [
    "plt.scatter(t_data, y_data)\n",
    "plt.plot(t_dense, y_dense, c = 'red')"
   ]
  },
  {
   "cell_type": "code",
   "execution_count": null,
   "id": "f26b3e7e-b2d9-49cf-8a41-f7f9e38e888b",
   "metadata": {},
   "outputs": [],
   "source": []
  }
 ],
 "metadata": {
  "kernelspec": {
   "display_name": "Python 3 (ipykernel)",
   "language": "python",
   "name": "python3"
  },
  "language_info": {
   "codemirror_mode": {
    "name": "ipython",
    "version": 3
   },
   "file_extension": ".py",
   "mimetype": "text/x-python",
   "name": "python",
   "nbconvert_exporter": "python",
   "pygments_lexer": "ipython3",
   "version": "3.9.4"
  },
  "widgets": {
   "application/vnd.jupyter.widget-state+json": {
    "state": {},
    "version_major": 2,
    "version_minor": 0
   }
  }
 },
 "nbformat": 4,
 "nbformat_minor": 5
}
