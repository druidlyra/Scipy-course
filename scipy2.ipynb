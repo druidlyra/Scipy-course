{
 "cells": [
  {
   "cell_type": "code",
   "execution_count": 1,
   "id": "a545dc11-eb8b-4c8b-8a41-dc62851713fa",
   "metadata": {},
   "outputs": [],
   "source": [
    "import numpy as np\n",
    "import matplotlib.pyplot as plt\n",
    "import scipy as sp"
   ]
  },
  {
   "cell_type": "markdown",
   "id": "4a2a44c0-ad71-4271-9a84-86991dd6635f",
   "metadata": {},
   "source": [
    "## Special Functions"
   ]
  },
  {
   "cell_type": "markdown",
   "id": "6d9a1d49-9bc5-47c1-b33e-780a139fd77e",
   "metadata": {},
   "source": [
    "1. Legendre Polynomials $P_l(x)$: satisfy $(1-x^2)y''-2xy'+l(l+1)y = 0$"
   ]
  },
  {
   "cell_type": "markdown",
   "id": "a690c474-95f2-4477-8503-1a6ac654c36e",
   "metadata": {},
   "source": [
    "$\\bullet$ The angular component of the spherical Schrodinger Equation which permits non-infinite solution"
   ]
  },
  {
   "cell_type": "code",
   "execution_count": 2,
   "id": "0079e896-d519-4093-ac00-4a63a67fe2b0",
   "metadata": {},
   "outputs": [
    {
     "data": {
      "text/plain": [
       "[<matplotlib.lines.Line2D at 0x15ec6301070>]"
      ]
     },
     "execution_count": 2,
     "metadata": {},
     "output_type": "execute_result"
    },
    {
     "data": {
      "image/png": "[encoded data removed]",
      "text/plain": [
       "<Figure size 432x288 with 1 Axes>"
      ]
     },
     "metadata": {
      "needs_background": "light"
     },
     "output_type": "display_data"
    }
   ],
   "source": [
    "from scipy.special import legendre\n",
    "x = np.linspace(0, 1 ,100)\n",
    "plt.plot(x, legendre(6)(x))"
   ]
  },
  {
   "cell_type": "code",
   "execution_count": 5,
   "id": "ea4a4910-c368-4887-9101-19b456efc101",
   "metadata": {},
   "outputs": [
    {
     "data": {
      "text/plain": [
       "poly1d([ 1.44375000e+01,  0.00000000e+00, -1.96875000e+01,  1.60288449e-15,\n",
       "        6.56250000e+00,  0.00000000e+00, -3.12500000e-01])"
      ]
     },
     "execution_count": 5,
     "metadata": {},
     "output_type": "execute_result"
    }
   ],
   "source": [
    "legendre(6)"
   ]
  },
  {
   "cell_type": "code",
   "execution_count": 6,
   "id": "9064770d-0451-4cee-b2de-b79272aaf942",
   "metadata": {},
   "outputs": [
    {
     "data": {
      "text/plain": [
       "array([-0.3125    , -0.31183063, -0.30982498, -0.30649042, -0.30183921,\n",
       "       -0.29588849, -0.28866022, -0.28018113, -0.27048269, -0.259601  ,\n",
       "       -0.24757672, -0.234455  , -0.22028534, -0.20512149, -0.18902132,\n",
       "       -0.17204669, -0.1542633 , -0.13574052, -0.1165512 , -0.09677155,\n",
       "       -0.07648089, -0.05576147, -0.03469823, -0.01337862,  0.00810769,\n",
       "        0.02966902,  0.05121194,  0.07264159,  0.09386188,  0.11477587,\n",
       "        0.135286  ,  0.15529446,  0.17470346,  0.19341564,  0.21133433,\n",
       "        0.228364  ,  0.24441054,  0.25938173,  0.27318756,  0.28574066,\n",
       "        0.29695673,  0.30675493,  0.31505837,  0.32179447,  0.32689553,\n",
       "        0.3302991 ,  0.33194851,  0.33179336,  0.32979001,  0.3259021 ,\n",
       "        0.32010106,  0.31236669,  0.30268763,  0.29106199,  0.27749789,\n",
       "        0.26201403,  0.24464031,  0.22541838,  0.20440232,  0.18165921,\n",
       "        0.15726978,  0.13132908,  0.1039471 ,  0.07524946,  0.04537808,\n",
       "        0.01449189, -0.01723251, -0.04960009, -0.08239669, -0.11538831,\n",
       "       -0.14832032, -0.18091672, -0.21287938, -0.24388727, -0.27359565,\n",
       "       -0.30163527, -0.32761158, -0.35110389, -0.37166452, -0.38881801,\n",
       "       -0.40206021, -0.41085743, -0.41464558, -0.41282925, -0.40478084,\n",
       "       -0.38983963, -0.36731087, -0.33646482, -0.29653586, -0.24672147,\n",
       "       -0.18618132, -0.11403625, -0.02936732,  0.06878523,  0.18142295,\n",
       "        0.30959024,  0.45437534,  0.61691142,  0.79837759,  1.        ])"
      ]
     },
     "execution_count": 6,
     "metadata": {},
     "output_type": "execute_result"
    }
   ],
   "source": [
    "legendre(6)(x)"
   ]
  },
  {
   "cell_type": "markdown",
   "id": "43c4f273-8007-4323-a7d6-0db89d4b10d0",
   "metadata": {},
   "source": [
    "2. Bessel functions $J_\\alpha (x)$: satisfy $x^2y''+xy'+(x^2-\\alpha ^2)y = 0$"
   ]
  },
  {
   "cell_type": "markdown",
   "id": "50d1bb2f-e00c-4ee0-9f08-4cc13f6155a3",
   "metadata": {},
   "source": [
    "$\\bullet$ Laplace's Equation in Polar Coordinates"
   ]
  },
  {
   "cell_type": "code",
   "execution_count": 7,
   "id": "fb533bf1-16a7-4d1b-88d8-638101edea29",
   "metadata": {},
   "outputs": [
    {
     "data": {
      "text/plain": [
       "[<matplotlib.lines.Line2D at 0x15ec83ef8b0>]"
      ]
     },
     "execution_count": 7,
     "metadata": {},
     "output_type": "execute_result"
    },
    {
     "data": {
      "image/png": "[encoded data removed]",
      "text/plain": [
       "<Figure size 432x288 with 1 Axes>"
      ]
     },
     "metadata": {
      "needs_background": "light"
     },
     "output_type": "display_data"
    }
   ],
   "source": [
    "from scipy.special import jv\n",
    "x = np.linspace(0, 10, 100)\n",
    "plt.plot(x, jv(3, x))"
   ]
  },
  {
   "cell_type": "markdown",
   "id": "be66e90a-015f-422e-9fd3-c7eb588b1387",
   "metadata": {},
   "source": [
    "# Calculus"
   ]
  },
  {
   "cell_type": "markdown",
   "id": "d83d61d8-8800-494a-98e1-08e01893e109",
   "metadata": {},
   "source": [
    "## Differentiation"
   ]
  },
  {
   "cell_type": "markdown",
   "id": "6546be25-5ebc-494a-b061-fd735daee56d",
   "metadata": {},
   "source": [
    "$f(x)=x^2 \\cdot sin2x \\cdot e^{-x}$.  \n",
    "Want to figure out the 1st and 2nd derivatives of f(x)"
   ]
  },
  {
   "cell_type": "code",
   "execution_count": 8,
   "id": "98b7b1e3-2340-4ac4-a7e8-6d679020d522",
   "metadata": {},
   "outputs": [],
   "source": [
    "def f(x):\n",
    "    return x**2 * np.sin(2*x) * np.exp(-x)  #e^(x) is np.exp(x) in numpy"
   ]
  },
  {
   "cell_type": "code",
   "execution_count": 9,
   "id": "12f41119-58ed-4430-9b62-2e28d972444e",
   "metadata": {},
   "outputs": [],
   "source": [
    "x = np.linspace(0, 1, 100)"
   ]
  },
  {
   "cell_type": "code",
   "execution_count": 10,
   "id": "0824935f-8b04-4a30-9183-5fb988865c57",
   "metadata": {},
   "outputs": [],
   "source": [
    "from scipy.misc import derivative"
   ]
  },
  {
   "cell_type": "code",
   "execution_count": 11,
   "id": "4f48407c-e8fc-4b86-b130-a5e849a2d283",
   "metadata": {},
   "outputs": [],
   "source": [
    "de1 = derivative(f, x, dx = 1e-6, n = 1)\n",
    "de2 = derivative(f, x, dx = 1e-6, n = 2)"
   ]
  },
  {
   "cell_type": "code",
   "execution_count": 12,
   "id": "ce43de46-ab79-4199-baf8-9c2f809af43d",
   "metadata": {},
   "outputs": [
    {
     "data": {
      "image/png": "[encoded data removed]",
      "text/plain": [
       "<Figure size 432x288 with 1 Axes>"
      ]
     },
     "metadata": {
      "needs_background": "light"
     },
     "output_type": "display_data"
    }
   ],
   "source": [
    "plt.plot(x, f(x), label = 'original')\n",
    "plt.plot(x, de1, label = '1st order derivative')\n",
    "plt.plot(x, de2, label = '2nd order derivative')\n",
    "plt.legend()\n",
    "plt.show()"
   ]
  },
  {
   "cell_type": "markdown",
   "id": "05bfa992-a6c8-4cc6-8294-d02e40d0dd1d",
   "metadata": {},
   "source": [
    "## Integration"
   ]
  },
  {
   "cell_type": "markdown",
   "id": "76568011-57d5-46ff-a83a-d8b41da1adcd",
   "metadata": {},
   "source": [
    "1.Single integrals"
   ]
  },
  {
   "cell_type": "markdown",
   "id": "ea9273a2-8393-42f4-b7fc-132e2da6c844",
   "metadata": {},
   "source": [
    "$$\\int_{0}^{1} x^2 sin(2x) e^{-x} dx$$"
   ]
  },
  {
   "cell_type": "code",
   "execution_count": 15,
   "id": "169c30a6-3acd-4867-8487-d12bbecdeb87",
   "metadata": {},
   "outputs": [],
   "source": [
    "from scipy.integrate import quad"
   ]
  },
  {
   "cell_type": "code",
   "execution_count": 25,
   "id": "dc152d5f-61e5-4ad1-9fea-c25904b14ebb",
   "metadata": {},
   "outputs": [],
   "source": [
    "integrand = lambda x: x**2 * np.sin(2*x) * np.exp(-x)"
   ]
  },
  {
   "cell_type": "code",
   "execution_count": 26,
   "id": "e7574120-7815-4755-b2cb-c7a4ce65474e",
   "metadata": {},
   "outputs": [
    {
     "data": {
      "text/plain": [
       "0.14558175869954834"
      ]
     },
     "execution_count": 26,
     "metadata": {},
     "output_type": "execute_result"
    }
   ],
   "source": [
    "integral1, integral1_error = quad(integrand, 0, 1)\n",
    "integral1"
   ]
  },
  {
   "cell_type": "code",
   "execution_count": 27,
   "id": "3a9aafeb-aecb-4b3f-b075-43599b9b6ec8",
   "metadata": {},
   "outputs": [
    {
     "data": {
      "text/plain": [
       "1.6162822047366225e-15"
      ]
     },
     "execution_count": 27,
     "metadata": {},
     "output_type": "execute_result"
    }
   ],
   "source": [
    "integral1_error"
   ]
  },
  {
   "cell_type": "code",
   "execution_count": 28,
   "id": "a7c19f4e-f1ff-4bf5-9b21-114dace50f5f",
   "metadata": {},
   "outputs": [],
   "source": [
    "def integ(x):\n",
    "    return x**2 * np.sin(2*x) * np.exp(-x)"
   ]
  },
  {
   "cell_type": "code",
   "execution_count": 31,
   "id": "79ec316d-89da-4597-abc7-ad53c8648e4e",
   "metadata": {},
   "outputs": [
    {
     "data": {
      "text/plain": [
       "0.14558175869954834"
      ]
     },
     "execution_count": 31,
     "metadata": {},
     "output_type": "execute_result"
    }
   ],
   "source": [
    "integral2, integral2_error = quad(integ, 0, 1)\n",
    "integral2"
   ]
  },
  {
   "cell_type": "code",
   "execution_count": 32,
   "id": "79cc14df-ae4d-4af1-8d04-1f374f4b517a",
   "metadata": {},
   "outputs": [
    {
     "data": {
      "text/plain": [
       "1.6162822047366225e-15"
      ]
     },
     "execution_count": 32,
     "metadata": {},
     "output_type": "execute_result"
    }
   ],
   "source": [
    "integral2_error"
   ]
  },
  {
   "cell_type": "markdown",
   "id": "52115fcf-8e2a-41d7-8f01-f17ed87bb90f",
   "metadata": {},
   "source": [
    "2.Double integrals"
   ]
  },
  {
   "cell_type": "markdown",
   "id": "7edbf4d2-7de3-42fb-8706-28656495e0e3",
   "metadata": {},
   "source": [
    "$$\\int_0^1 \\int_{-x}^{x^2} sin(x+y^2) dydx$$"
   ]
  },
  {
   "cell_type": "code",
   "execution_count": 33,
   "id": "bd966ca4-09c3-428c-b081-5cccbb81505f",
   "metadata": {},
   "outputs": [],
   "source": [
    "from scipy.integrate import dblquad"
   ]
  },
  {
   "cell_type": "code",
   "execution_count": 34,
   "id": "a1de36a9-ec94-4e25-b881-4ae9dda7e4c8",
   "metadata": {},
   "outputs": [],
   "source": [
    "dblintegrand = lambda x, y : np.sin(x + y**2)\n",
    "lwry = lambda x: -x\n",
    "upry = lambda x: x**2"
   ]
  },
  {
   "cell_type": "code",
   "execution_count": 36,
   "id": "5d30f2e6-53b1-4874-ba85-a0006d74d27c",
   "metadata": {},
   "outputs": [
    {
     "data": {
      "text/plain": [
       "0.315802507240474"
      ]
     },
     "execution_count": 36,
     "metadata": {},
     "output_type": "execute_result"
    }
   ],
   "source": [
    "dblint1, dblint1_error = dblquad(dblintegrand, 0, 1, lwry, upry)\n",
    "dblint1"
   ]
  },
  {
   "cell_type": "code",
   "execution_count": 37,
   "id": "5422ba5b-b05a-46b0-b29f-2ad46199190d",
   "metadata": {},
   "outputs": [
    {
     "data": {
      "text/plain": [
       "1.5634600713498928e-14"
      ]
     },
     "execution_count": 37,
     "metadata": {},
     "output_type": "execute_result"
    }
   ],
   "source": [
    "dblint1_error"
   ]
  },
  {
   "cell_type": "code",
   "execution_count": 38,
   "id": "0b9591ab-fb25-4824-a633-b0040ac8a62c",
   "metadata": {},
   "outputs": [],
   "source": [
    "from scipy.integrate import nquad"
   ]
  },
  {
   "cell_type": "code",
   "execution_count": 40,
   "id": "948a55fb-a70d-4ce9-b3e9-11168878fcac",
   "metadata": {},
   "outputs": [],
   "source": [
    "# nquad?"
   ]
  },
  {
   "cell_type": "code",
   "execution_count": null,
   "id": "8dfdf4a3-384d-4e2b-940a-118e2d584299",
   "metadata": {},
   "outputs": [],
   "source": []
  }
 ],
 "metadata": {
  "kernelspec": {
   "display_name": "Python 3 (ipykernel)",
   "language": "python",
   "name": "python3"
  },
  "language_info": {
   "codemirror_mode": {
    "name": "ipython",
    "version": 3
   },
   "file_extension": ".py",
   "mimetype": "text/x-python",
   "name": "python",
   "nbconvert_exporter": "python",
   "pygments_lexer": "ipython3",
   "version": "3.8.2"
  }
 },
 "nbformat": 4,
 "nbformat_minor": 5
}
